{
 "cells": [
  {
   "cell_type": "markdown",
   "metadata": {},
   "source": [
    "# Joint Coordinate System\n",
    "\n",
    "> Marcos Duarte  \n",
    "> Laboratory of Biomechanics and Motor Control ([http://demotu.org/](http://demotu.org/))  \n",
    "> Federal University of ABC, Brazil"
   ]
  },
  {
   "cell_type": "markdown",
   "metadata": {},
   "source": []
  },
  {
   "cell_type": "code",
   "execution_count": null,
   "metadata": {},
   "outputs": [],
   "source": []
  },
  {
   "cell_type": "markdown",
   "metadata": {},
   "source": [
    "<div class='center-align'><figure><img src='./../images/JCSpelvisV.png' width=420 alt='Pelvic anatomical frame'/> <figcaption><center><i>Pelvic anatomical frame (figure from the [VAKHUM project](http://www.ulb.ac.be/project/vakhum/public_dataset/Doc/VAKHUM-3-Frame_Convention.pdf)).</i></center></figcaption> </figure></div>"
   ]
  },
  {
   "cell_type": "code",
   "execution_count": null,
   "metadata": {},
   "outputs": [],
   "source": []
  },
  {
   "cell_type": "markdown",
   "metadata": {},
   "source": [
    "<div class='center-align'><figure><img src='./../images/JCSthighV.png' width=280 alt='Femur anatomical frame'/> <figcaption><center><i>Femur anatomical frame (figure from the [VAKHUM project](http://www.ulb.ac.be/project/vakhum/public_dataset/Doc/VAKHUM-3-Frame_Convention.pdf)).</i></center></figcaption> </figure></div>"
   ]
  },
  {
   "cell_type": "code",
   "execution_count": 0,
   "metadata": {},
   "outputs": [],
   "source": []
  },
  {
   "cell_type": "markdown",
   "metadata": {},
   "source": [
    "<div class='center-align'><figure><img src='./../images/JCSlegV.png' width=320 alt='Tibial/Fibula anatomical frame'/> <figcaption><center><i>Tibial/Fibula anatomical frame (figure from the [VAKHUM project](http://www.ulb.ac.be/project/vakhum/public_dataset/Doc/VAKHUM-3-Frame_Convention.pdf)).</i></center></figcaption> </figure></div>"
   ]
  },
  {
   "cell_type": "code",
   "execution_count": null,
   "metadata": {},
   "outputs": [],
   "source": []
  },
  {
   "cell_type": "markdown",
   "metadata": {},
   "source": [
    "<div class='center-align'><figure><img src='./../images/JCSfootV.png' width=350 alt='Foot anatomical frame'/> <figcaption><center><i>Foot anatomical frame (figure from the [VAKHUM project](http://www.ulb.ac.be/project/vakhum/public_dataset/Doc/VAKHUM-3-Frame_Convention.pdf)).</i></center></figcaption> </figure></div>"
   ]
  },
  {
   "cell_type": "code",
   "execution_count": null,
   "metadata": {},
   "outputs": [],
   "source": []
  },
  {
   "cell_type": "markdown",
   "metadata": {},
   "source": [
    "## References"
   ]
  },
  {
   "cell_type": "markdown",
   "metadata": {},
   "source": [
    "- Cappozzo A, Catani F, Croce UD, Leardini AC (1995) [Position and orientation in space of bones during movement: anatomical frame definition and determination](http://www.ncbi.nlm.nih.gov/pubmed/11415549). Clinical Biomechanics, 10(4):171-178.   \n",
    "- Grood ES, Suntay WJ (1983) [A Joint Coordinate System for the Clinical Description of Three-Dimensional Motions: Application to the Knee](http://www.ncbi.nlm.nih.gov/pubmed/6865355). Journal of Biomechanical Engineering, 105, 136–144.\n",
    "- MacWilliams BA, Davis RB (2013) [Addressing some misperceptions of the joint coordinate system](http://www.ncbi.nlm.nih.gov/pubmed/24231967). Journal of Biomechanical Engineering, 135:54506. doi: 10.1115/1.4024142.\n",
    "- Virtual Animation of the Kinematics of the Human for Industrial, Educational and Research Purposes (VAKHUM). [D3.2. Technical Report on Data Collection Procedure - ANNEX I](http://www.ulb.ac.be/project/vakhum/public_dataset/Doc/VAKHUM-3-Frame_Convention.pdf).  \n",
    "- Wu G, Cavanagh PR (1995) [ISB recommendations for standardization in the reporting data](http://www.ncbi.nlm.nih.gov/pubmed/8550644). Journal of Biomechanics, 28, 1257-1261.\n",
    "- Zatsiorsky VM (1997) [Kinematics of Human Motion](http://books.google.com.br/books/about/Kinematics_of_Human_Motion.html?id=Pql_xXdbrMcC&redir_esc=y). Champaign, Human Kinetics."
   ]
  },
  {
   "cell_type": "code",
   "execution_count": null,
   "metadata": {},
   "outputs": [],
   "source": []
  }
 ],
 "metadata": {
  "kernelspec": {
   "display_name": "Python 3",
   "language": "python",
   "name": "python3"
  },
  "language_info": {
   "codemirror_mode": {
    "name": "ipython",
    "version": 3
   },
   "file_extension": ".py",
   "mimetype": "text/x-python",
   "name": "python",
   "nbconvert_exporter": "python",
   "pygments_lexer": "ipython3",
   "version": "3.6.3"
  },
  "varInspector": {
   "cols": {
    "lenName": 16,
    "lenType": 16,
    "lenVar": 40
   },
   "kernels_config": {
    "python": {
     "delete_cmd_postfix": "",
     "delete_cmd_prefix": "del ",
     "library": "var_list.py",
     "varRefreshCmd": "print(var_dic_list())"
    },
    "r": {
     "delete_cmd_postfix": ") ",
     "delete_cmd_prefix": "rm(",
     "library": "var_list.r",
     "varRefreshCmd": "cat(var_dic_list()) "
    }
   },
   "types_to_exclude": [
    "module",
    "function",
    "builtin_function_or_method",
    "instance",
    "_Feature"
   ],
   "window_display": false
  }
 },
 "nbformat": 4,
 "nbformat_minor": 1
}
