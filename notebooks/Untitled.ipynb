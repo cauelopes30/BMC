{
 "cells": [
  {
   "cell_type": "code",
   "execution_count": 1,
   "metadata": {
    "collapsed": true
   },
   "outputs": [],
   "source": [
    "import numpy as np\n",
    "import sympy as sym\n",
    "from sympy.vector import CoordSys3D\n",
    "from sympy.physics.mechanics import dot,cross\n",
    "from matplotlib.patches import FancyArrowPatch\n",
    "import matplotlib.pyplot as plt"
   ]
  },
  {
   "cell_type": "code",
   "execution_count": 2,
   "metadata": {
    "collapsed": true
   },
   "outputs": [],
   "source": [
    "t = sym.symbols('t')\n",
    "O = sym.vector.CoordSys3D(' ')"
   ]
  },
  {
   "cell_type": "code",
   "execution_count": 7,
   "metadata": {},
   "outputs": [
    {
     "data": {
      "image/png": "[encoded data removed]",
      "text/latex": [
       "$$(10 t + 100)\\mathbf{\\hat{i}_{ }} + (- 4.905 t^{2} + 50 t + 100)\\mathbf{\\hat{j}_{ }}$$"
      ],
      "text/plain": [
       "(10⋅t + 100)  _i + ⎛         2             ⎞  _j\n",
       "                   ⎝- 4.905⋅t  + 50⋅t + 100⎠    "
      ]
     },
     "execution_count": 7,
     "metadata": {},
     "output_type": "execute_result"
    }
   ],
   "source": [
    "sym.init_printing()\n",
    "r = (10*t +100)*O.i + (-9.81/2*t**2+50*t+100)*O.j\n",
    "r"
   ]
  },
  {
   "cell_type": "code",
   "execution_count": 8,
   "metadata": {},
   "outputs": [
    {
     "data": {
      "image/png": "[encoded data removed]",
      "text/latex": [
       "$$(10)\\mathbf{\\hat{i}_{ }} + (- 9.81 t + 50)\\mathbf{\\hat{j}_{ }}$$"
      ],
      "text/plain": [
       "(10)  _i + (-9.81⋅t + 50)  _j"
      ]
     },
     "execution_count": 8,
     "metadata": {},
     "output_type": "execute_result"
    }
   ],
   "source": [
    "v = sym.diff(r,t)\n",
    "v"
   ]
  },
  {
   "cell_type": "code",
   "execution_count": 10,
   "metadata": {},
   "outputs": [
    {
     "data": {
      "image/png": "[encoded data removed]",
      "text/latex": [
       "$$\\sqrt{\\left(- 9.81 t + 50\\right)^{2} + 100}$$"
      ],
      "text/plain": [
       "   _______________________\n",
       "  ╱               2       \n",
       "╲╱  (-9.81⋅t + 50)  + 100 "
      ]
     },
     "execution_count": 10,
     "metadata": {},
     "output_type": "execute_result"
    }
   ],
   "source": [
    "vNorm = sym.sqrt(v.dot(v))\n",
    "vNorm"
   ]
  },
  {
   "cell_type": "code",
   "execution_count": 12,
   "metadata": {},
   "outputs": [
    {
     "data": {
      "image/png": "[encoded data removed]",
      "text/latex": [
       "$$(\\frac{10}{\\sqrt{\\left(- 9.81 t + 50\\right)^{2} + 100}})\\mathbf{\\hat{i}_{ }} + (\\frac{- 9.81 t + 50}{\\sqrt{\\left(- 9.81 t + 50\\right)^{2} + 100}})\\mathbf{\\hat{j}_{ }}$$"
      ],
      "text/plain": [
       "⎛            10            ⎞  _i + ⎛       -9.81⋅t + 50       ⎞  _j\n",
       "⎜──────────────────────────⎟       ⎜──────────────────────────⎟    \n",
       "⎜   _______________________⎟       ⎜   _______________________⎟    \n",
       "⎜  ╱               2       ⎟       ⎜  ╱               2       ⎟    \n",
       "⎝╲╱  (-9.81⋅t + 50)  + 100 ⎠       ⎝╲╱  (-9.81⋅t + 50)  + 100 ⎠    "
      ]
     },
     "execution_count": 12,
     "metadata": {},
     "output_type": "execute_result"
    }
   ],
   "source": [
    "et = v/vNorm\n",
    "et"
   ]
  },
  {
   "cell_type": "code",
   "execution_count": null,
   "metadata": {
    "collapsed": true
   },
   "outputs": [],
   "source": [
    "C = "
   ]
  }
 ],
 "metadata": {
  "kernelspec": {
   "display_name": "Python 3",
   "language": "python",
   "name": "python3"
  },
  "language_info": {
   "codemirror_mode": {
    "name": "ipython",
    "version": 3
   },
   "file_extension": ".py",
   "mimetype": "text/x-python",
   "name": "python",
   "nbconvert_exporter": "python",
   "pygments_lexer": "ipython3",
   "version": "3.6.2"
  }
 },
 "nbformat": 4,
 "nbformat_minor": 2
}
