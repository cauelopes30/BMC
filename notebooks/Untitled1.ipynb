{
 "cells": [
  {
   "cell_type": "code",
   "execution_count": 1,
   "metadata": {
    "collapsed": true
   },
   "outputs": [],
   "source": [
    "import numpy as np"
   ]
  },
  {
   "cell_type": "code",
   "execution_count": 27,
   "metadata": {},
   "outputs": [
    {
     "name": "stdout",
     "output_type": "stream",
     "text": [
      "[[ 0.73176243 -1.37713981 -0.94495971]\n",
      " [-1.30719906 -1.65339314 -0.47720081]\n",
      " [ 0.96717259  0.6516266   0.03847065]]\n"
     ]
    }
   ],
   "source": [
    "v = np.random.randn(3,3)\n",
    "print(v)"
   ]
  },
  {
   "cell_type": "code",
   "execution_count": 28,
   "metadata": {},
   "outputs": [
    {
     "data": {
      "text/plain": [
       "array([[ 0.41037339, -0.88784574,  0.20814329],\n",
       "       [-0.73307905, -0.45694344, -0.50378349],\n",
       "       [ 0.54239173,  0.05415385, -0.83837854]])"
      ]
     },
     "execution_count": 28,
     "metadata": {},
     "output_type": "execute_result"
    }
   ],
   "source": [
    "e = np.zeros((3,3))\n",
    "for i in range(0,3):\n",
    "    projection = 0\n",
    "    for j in range(0,i):\n",
    "        projection = projection + v[:,i].dot(e[:,j])*e[:,j]\n",
    "    e[:,i] = v[:,i] - projection\n",
    "    e[:,i] = e[:,i]/np.sqrt(np.sum(e[:,i]**2,0))\n",
    "e"
   ]
  },
  {
   "cell_type": "code",
   "execution_count": 29,
   "metadata": {},
   "outputs": [
    {
     "data": {
      "text/plain": [
       "1.0"
      ]
     },
     "execution_count": 29,
     "metadata": {},
     "output_type": "execute_result"
    }
   ],
   "source": [
    "e[:,2].dot(e[:,2])"
   ]
  },
  {
   "cell_type": "code",
   "execution_count": null,
   "metadata": {
    "collapsed": true
   },
   "outputs": [],
   "source": []
  }
 ],
 "metadata": {
  "kernelspec": {
   "display_name": "Python 3",
   "language": "python",
   "name": "python3"
  },
  "language_info": {
   "codemirror_mode": {
    "name": "ipython",
    "version": 3
   },
   "file_extension": ".py",
   "mimetype": "text/x-python",
   "name": "python",
   "nbconvert_exporter": "python",
   "pygments_lexer": "ipython3",
   "version": "3.6.2"
  }
 },
 "nbformat": 4,
 "nbformat_minor": 2
}
