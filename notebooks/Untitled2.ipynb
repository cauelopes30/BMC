{
 "cells": [
  {
   "cell_type": "code",
   "execution_count": 2,
   "metadata": {
    "collapsed": true
   },
   "outputs": [],
   "source": [
    "import sympy as sym\n",
    "from sympy.plotting import plot_parametric\n",
    "from sympy.vector import CoordSys3D"
   ]
  },
  {
   "cell_type": "code",
   "execution_count": 10,
   "metadata": {
    "collapsed": true
   },
   "outputs": [],
   "source": [
    "O = sym.vector.CoordSys3D(' ')\n",
    "t = sym.symbols('t')\n",
    "l = 10\n",
    "w = 1"
   ]
  },
  {
   "cell_type": "code",
   "execution_count": 11,
   "metadata": {
    "collapsed": true
   },
   "outputs": [],
   "source": [
    "r = l/sym.tan(sym.pi/2-w*t)*O.i + l*O.j\n",
    "s = l/sym.tan(sym.pi/2-w*t)*O.i + l*O.j"
   ]
  },
  {
   "cell_type": "code",
   "execution_count": 12,
   "metadata": {},
   "outputs": [
    {
     "data": {
      "text/plain": [
       "(10/cot(t))* .i + 10* .j"
      ]
     },
     "execution_count": 12,
     "metadata": {},
     "output_type": "execute_result"
    }
   ],
   "source": [
    "r"
   ]
  },
  {
   "cell_type": "code",
   "execution_count": 13,
   "metadata": {},
   "outputs": [
    {
     "data": {
      "image/png": "[encoded data removed]",
      "text/plain": [
       "<matplotlib.figure.Figure at 0x7efef503b630>"
      ]
     },
     "metadata": {},
     "output_type": "display_data"
    },
    {
     "data": {
      "text/plain": [
       "<sympy.plotting.plot.Plot at 0x7efef503b898>"
      ]
     },
     "execution_count": 13,
     "metadata": {},
     "output_type": "execute_result"
    }
   ],
   "source": [
    "plot_parametric(r.dot(O.i),r.dot(O.j), (t,0,10))"
   ]
  },
  {
   "cell_type": "code",
   "execution_count": 14,
   "metadata": {
    "collapsed": true
   },
   "outputs": [],
   "source": [
    "import numpy as np\n",
    "import matplotlib.pyplot as plt"
   ]
  },
  {
   "cell_type": "code",
   "execution_count": 25,
   "metadata": {
    "collapsed": true
   },
   "outputs": [],
   "source": [
    "t = np.linspace(0,10,100)\n",
    "r = np.transpose(np.array([l/np.tan(np.pi/2 - w*t),l*np.ones(np.size(t))]))"
   ]
  },
  {
   "cell_type": "code",
   "execution_count": 26,
   "metadata": {},
   "outputs": [
    {
     "data": {
      "text/plain": [
       "array([[  6.12323400e-16,   1.00000000e+01],\n",
       "       [  1.01355046e+00,   1.00000000e+01],\n",
       "       [  2.04814115e+00,   1.00000000e+01],\n",
       "       [  3.12659645e+00,   1.00000000e+01],\n",
       "       [  4.27564037e+00,   1.00000000e+01],\n",
       "       [  5.52878500e+00,   1.00000000e+01],\n",
       "       [  6.93071194e+00,   1.00000000e+01],\n",
       "       [  8.54448019e+00,   1.00000000e+01],\n",
       "       [  1.04642632e+01,   1.00000000e+01],\n",
       "       [  1.28395879e+01,   1.00000000e+01],\n",
       "       [  1.59256316e+01,   1.00000000e+01],\n",
       "       [  2.01997033e+01,   1.00000000e+01],\n",
       "       [  2.66744193e+01,   1.00000000e+01],\n",
       "       [  3.79473717e+01,   1.00000000e+01],\n",
       "       [  6.33115371e+01,   1.00000000e+01],\n",
       "       [  1.79525753e+02,   1.00000000e+01],\n",
       "       [ -2.20281611e+02,   1.00000000e+01],\n",
       "       [ -6.78288787e+01,   1.00000000e+01],\n",
       "       [ -3.95947400e+01,   1.00000000e+01],\n",
       "       [ -2.75321778e+01,   1.00000000e+01],\n",
       "       [ -2.07330247e+01,   1.00000000e+01],\n",
       "       [ -1.62952052e+01,   1.00000000e+01],\n",
       "       [ -1.31154975e+01,   1.00000000e+01],\n",
       "       [ -1.06819695e+01,   1.00000000e+01],\n",
       "       [ -8.72390657e+00,   1.00000000e+01],\n",
       "       [ -7.08398197e+00,   1.00000000e+01],\n",
       "       [ -5.66377405e+00,   1.00000000e+01],\n",
       "       [ -4.39776877e+00,   1.00000000e+01],\n",
       "       [ -3.23980837e+00,   1.00000000e+01],\n",
       "       [ -2.15547828e+00,   1.00000000e+01],\n",
       "       [ -1.11751366e+00,   1.00000000e+01],\n",
       "       [ -1.02798844e-01,   1.00000000e+01],\n",
       "       [  9.09803671e-01,   1.00000000e+01],\n",
       "       [  1.94125506e+00,   1.00000000e+01],\n",
       "       [  3.01410994e+00,   1.00000000e+01],\n",
       "       [  4.15458086e+00,   1.00000000e+01],\n",
       "       [  5.39532170e+00,   1.00000000e+01],\n",
       "       [  6.77961046e+00,   1.00000000e+01],\n",
       "       [  8.36817839e+00,   1.00000000e+01],\n",
       "       [  1.02511909e+01,   1.00000000e+01],\n",
       "       [  1.25708669e+01,   1.00000000e+01],\n",
       "       [  1.55679640e+01,   1.00000000e+01],\n",
       "       [  1.96880803e+01,   1.00000000e+01],\n",
       "       [  2.58624464e+01,   1.00000000e+01],\n",
       "       [  3.64237039e+01,   1.00000000e+01],\n",
       "       [  5.93462734e+01,   1.00000000e+01],\n",
       "       [  1.51469245e+02,   1.00000000e+01],\n",
       "       [ -2.84898896e+02,   1.00000000e+01],\n",
       "       [ -7.30234024e+01,   1.00000000e+01],\n",
       "       [ -4.13819038e+01,   1.00000000e+01],\n",
       "       [ -2.84399044e+01,   1.00000000e+01],\n",
       "       [ -2.12895748e+01,   1.00000000e+01],\n",
       "       [ -1.66773714e+01,   1.00000000e+01],\n",
       "       [ -1.33989488e+01,   1.00000000e+01],\n",
       "       [ -1.09045102e+01,   1.00000000e+01],\n",
       "       [ -8.90658030e+00,   1.00000000e+01],\n",
       "       [ -7.23950068e+00,   1.00000000e+01],\n",
       "       [ -5.80034421e+00,   1.00000000e+01],\n",
       "       [ -4.52100643e+00,   1.00000000e+01],\n",
       "       [ -3.35377692e+00,   1.00000000e+01],\n",
       "       [ -2.26329214e+00,   1.00000000e+01],\n",
       "       [ -1.22171600e+00,   1.00000000e+01],\n",
       "       [ -2.05619416e-01,   1.00000000e+01],\n",
       "       [  8.06250767e-01,   1.00000000e+01],\n",
       "       [  1.83479472e+00,   1.00000000e+01],\n",
       "       [  2.90231835e+00,   1.00000000e+01],\n",
       "       [  4.03455101e+00,   1.00000000e+01],\n",
       "       [  5.26333069e+00,   1.00000000e+01],\n",
       "       [  6.63060056e+00,   1.00000000e+01],\n",
       "       [  8.19488395e+00,   1.00000000e+01],\n",
       "       [  1.00425625e+01,   1.00000000e+01],\n",
       "       [  1.23090024e+01,   1.00000000e+01],\n",
       "       [  1.52215640e+01,   1.00000000e+01],\n",
       "       [  1.91967560e+01,   1.00000000e+01],\n",
       "       [  2.50925301e+01,   1.00000000e+01],\n",
       "       [  3.50100198e+01,   1.00000000e+01],\n",
       "       [  5.58370103e+01,   1.00000000e+01],\n",
       "       [  1.30972844e+02,   1.00000000e+01],\n",
       "       [ -4.03041606e+02,   1.00000000e+01],\n",
       "       [ -7.90610975e+01,   1.00000000e+01],\n",
       "       [ -4.33278756e+01,   1.00000000e+01],\n",
       "       [ -2.94023060e+01,   1.00000000e+01],\n",
       "       [ -2.18710307e+01,   1.00000000e+01],\n",
       "       [ -1.70728701e+01,   1.00000000e+01],\n",
       "       [ -1.36903176e+01,   1.00000000e+01],\n",
       "       [ -1.11320966e+01,   1.00000000e+01],\n",
       "       [ -9.09263000e+00,   1.00000000e+01],\n",
       "       [ -7.39735152e+00,   1.00000000e+01],\n",
       "       [ -5.93855278e+00,   1.00000000e+01],\n",
       "       [ -4.64539494e+00,   1.00000000e+01],\n",
       "       [ -3.46853404e+00,   1.00000000e+01],\n",
       "       [ -2.37160886e+00,   1.00000000e+01],\n",
       "       [ -1.32618040e+00,   1.00000000e+01],\n",
       "       [ -3.08483466e-01,   1.00000000e+01],\n",
       "       [  7.02869374e-01,   1.00000000e+01],\n",
       "       [  1.72873523e+00,   1.00000000e+01],\n",
       "       [  2.79119184e+00,   1.00000000e+01],\n",
       "       [  3.91551269e+00,   1.00000000e+01],\n",
       "       [  5.13276032e+00,   1.00000000e+01],\n",
       "       [  6.48360827e+00,   1.00000000e+01]])"
      ]
     },
     "execution_count": 26,
     "metadata": {},
     "output_type": "execute_result"
    }
   ],
   "source": [
    "r"
   ]
  },
  {
   "cell_type": "code",
   "execution_count": 24,
   "metadata": {},
   "outputs": [
    {
     "data": {
      "image/png": "[encoded data removed]",
      "text/plain": [
       "<matplotlib.figure.Figure at 0x7efef4db94a8>"
      ]
     },
     "metadata": {},
     "output_type": "display_data"
    }
   ],
   "source": [
    "plt.figure()\n",
    "plt.plot(r[:,0],r[:,1])\n",
    "plt.show()"
   ]
  },
  {
   "cell_type": "code",
   "execution_count": null,
   "metadata": {
    "collapsed": true
   },
   "outputs": [],
   "source": []
  }
 ],
 "metadata": {
  "kernelspec": {
   "display_name": "Python 3",
   "language": "python",
   "name": "python3"
  },
  "language_info": {
   "codemirror_mode": {
    "name": "ipython",
    "version": 3
   },
   "file_extension": ".py",
   "mimetype": "text/x-python",
   "name": "python",
   "nbconvert_exporter": "python",
   "pygments_lexer": "ipython3",
   "version": "3.6.3"
  }
 },
 "nbformat": 4,
 "nbformat_minor": 2
}
