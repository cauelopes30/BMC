{
 "cells": [
  {
   "cell_type": "code",
   "execution_count": 4,
   "metadata": {},
   "outputs": [],
   "source": [
    "import sympy as sym\n",
    "sym.init_printing()"
   ]
  },
  {
   "cell_type": "code",
   "execution_count": 5,
   "metadata": {},
   "outputs": [],
   "source": [
    "x = sym.symbols('x')"
   ]
  },
  {
   "cell_type": "code",
   "execution_count": 6,
   "metadata": {},
   "outputs": [
    {
     "data": {
      "image/png": "[encoded data removed]",
      "text/latex": [
       "$$\\sqrt{0.015625 \\pi^{2} \\cos^{2}{\\left (\\frac{\\pi x}{4} \\right )} + 1}$$"
      ],
      "text/plain": [
       "    ___________________________\n",
       "   ╱           2    2⎛π⋅x⎞     \n",
       "  ╱  0.015625⋅π ⋅cos ⎜───⎟ + 1 \n",
       "╲╱                   ⎝ 4 ⎠     "
      ]
     },
     "execution_count": 6,
     "metadata": {},
     "output_type": "execute_result"
    }
   ],
   "source": [
    "f = sym.sqrt(1+(0.5**2)*((sym.pi/4)**2)*sym.cos(sym.pi/4*x)**2)\n",
    "f"
   ]
  },
  {
   "cell_type": "code",
   "execution_count": 8,
   "metadata": {},
   "outputs": [
    {
     "data": {
      "image/png": "[encoded data removed]",
      "text/latex": [
       "$$1.0 \\int \\sqrt{0.015625 \\pi^{2} \\cos^{2}{\\left (\\frac{\\pi x}{4} \\right )} + 1.0}\\, dx$$"
      ],
      "text/plain": [
       "    ⌠                                     \n",
       "    ⎮     _____________________________   \n",
       "    ⎮    ╱           2    2⎛π⋅x⎞          \n",
       "1.0⋅⎮   ╱  0.015625⋅π ⋅cos ⎜───⎟ + 1.0  dx\n",
       "    ⎮ ╲╱                   ⎝ 4 ⎠          \n",
       "    ⌡                                     "
      ]
     },
     "execution_count": 8,
     "metadata": {},
     "output_type": "execute_result"
    }
   ],
   "source": [
    "sym.integrate(f,x)"
   ]
  },
  {
   "cell_type": "code",
   "execution_count": null,
   "metadata": {},
   "outputs": [],
   "source": []
  }
 ],
 "metadata": {
  "kernelspec": {
   "display_name": "Python 3",
   "language": "python",
   "name": "python3"
  },
  "language_info": {
   "codemirror_mode": {
    "name": "ipython",
    "version": 3
   },
   "file_extension": ".py",
   "mimetype": "text/x-python",
   "name": "python",
   "nbconvert_exporter": "python",
   "pygments_lexer": "ipython3",
   "version": "3.6.3"
  }
 },
 "nbformat": 4,
 "nbformat_minor": 2
}
