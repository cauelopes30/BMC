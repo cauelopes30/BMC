{
 "cells": [
  {
   "cell_type": "code",
   "execution_count": 1,
   "metadata": {},
   "outputs": [],
   "source": [
    "from numba import jit\n",
    "'''\n",
    "Implements the MFROLS algorithm (see page 97 from Billings, SA (2013)).\n",
    "% written by: Renato Naville Watanabe \n",
    "% beta = mfrols(p, y, pho, s)\n",
    "% Inputs:\n",
    "%   p: matrix of floats, is the matrix of candidate terms.\n",
    "%   y: vector of floats, output signal.\n",
    "%   pho: float, stop criteria.\n",
    "%   s: integer, iteration step of the mfrols algorithm.\n",
    "% Output:\n",
    "%   beta: vector of floats, coefficients of the chosen terms.\n",
    "% Globals:\n",
    "%   l: vector of integers, indices of the chosen terms.\n",
    "%   err: vector of floats, the error reduction ratio of each chosen term.\n",
    "%   ESR: float, the sum of the individual error reduction ratios.\n",
    "%   A: matrix of floats, auxiliary matrix in the orthogonalization process. \n",
    "%   q: matrix of floats, matrix with each column being the terms orthogonalized by the Gram-Schmidt process.\n",
    "%   g: vector of floats, auxiliary vector in the orthogonalization process.\n",
    "%   M0:\tinteger, number of chosen terms.\n",
    "'''\n",
    "#@jit\n",
    "def mfrols(p, y, pho, s):\n",
    "    import numpy as np\n",
    "    ## global variables assignment    \n",
    "    global l\n",
    "    global err\n",
    "    global ESR\n",
    "    global A\n",
    "    global q \n",
    "    global g \n",
    "    global M0\n",
    "    \n",
    "    if np.ndim(p) == 2:\n",
    "        pTemp = np.zeros((np.shape(p)[0],np.shape(p)[1],1))\n",
    "        pTemp[:,:,0] = p\n",
    "        p = pTemp\n",
    "    if np.ndim(y) == 1:\n",
    "        yTemp = np.zeros((np.shape(y)[0],1))\n",
    "        yTemp[:,0] = y\n",
    "        y = yTemp\n",
    "        print(y)\n",
    "    if s == 0:\n",
    "        M = np.shape(p)[1]\n",
    "        l = -1*np.ones((M))\n",
    "        err = np.zeros((M))\n",
    "        A = np.empty((M,M,1))\n",
    "        q = np.empty_like(p)\n",
    "        g = np.empty((1,M))\n",
    "\n",
    "\n",
    "    M = np.shape(p)[1]\n",
    "    L = np.shape(p)[2]\n",
    "    gs= np.zeros((L,M))\n",
    "    ERR=np.zeros((L,M))\n",
    "    qs=np.zeros_like(p)\n",
    "\n",
    "    for j in range(L):\n",
    "        sigma = np.transpose(y[:,j])@y[:,j]\n",
    "        for m in range(M):\n",
    "            if np.max(m*np.ones_like(l)==l)==0:\n",
    "                ## The Gram-Schmidt method was implemented in a modified way, as shown in Rice, JR(1966)\n",
    "                qs[:,m,j] = p[:,m,j]\n",
    "                for r in range(s):\n",
    "                    qs[:,m,j] = qs[:,m,j] - (np.transpose(np.squeeze(q[:,r,j]))@qs[:,m,j])/(np.transpose(np.squeeze(q[:,r,j]))@np.squeeze(q[:,r,j]))*np.squeeze(q[:,r,j])\n",
    "                gs[j,m] = (np.transpose(y[:,j])@np.squeeze(qs[:,m,j]))/(np.transpose(np.squeeze(qs[:,m,j]))@np.squeeze(qs[:,m,j]))\n",
    "                ERR[j,m] = (gs[j,m]**2)*(np.transpose(np.squeeze(qs[:,m,j]))@np.squeeze(qs[:,m,j]))/sigma\n",
    "            else:\n",
    "                ERR[j,m]=0   \n",
    "\n",
    "    \n",
    "    ERR_m = np.mean(ERR, 0)\n",
    "    l[s] = np.nonzero(ERR_m == np.max(ERR_m))[0]\n",
    "    err[s] = ERR_m[int(l[s])]\n",
    "    for j in range(L):\n",
    "        for r in  range(s-1):\n",
    "            A[r, s, j] = (np.transpose(q[:,r,j])@p[:,int(l[s]),j])/(np.transpose(q[:,r,j])@q[:,r,j])    \n",
    "        A[s, s, j] = 1\n",
    "        q[:, s,j] = qs[:,int(l[s]),j]\n",
    "        g[j,s] = gs[j,int(l[s])]    \n",
    "\n",
    "    ESR = ESR - err[s]   \n",
    "\n",
    "    ## recursive call \n",
    "\n",
    "    if (err[s] >= pho and s < M-1):\n",
    "        s += 1\n",
    "        del qs \n",
    "        del gs\n",
    "        beta = mfrols(p, y, pho, s)\n",
    "    else:\n",
    "        s += 1  \n",
    "        M0 = s              \n",
    "        beta = np.empty((M0,L))\n",
    "        for j in range(L):\n",
    "            if s > 1:\n",
    "                beta[:,j] = np.linalg.inv(np.squeeze(A[0:M0,0:M0,j]))@np.transpose(g[j,0:M0])\n",
    "            else:\n",
    "                beta[:,j] = (np.squeeze(A[0:M0,0:M0,j])**-1)*g[j,0:M0]\n",
    "    return beta  \n"
   ]
  },
  {
   "cell_type": "code",
   "execution_count": 2,
   "metadata": {},
   "outputs": [],
   "source": [
    "import numpy as np\n",
    "import time"
   ]
  },
  {
   "cell_type": "code",
   "execution_count": 3,
   "metadata": {},
   "outputs": [],
   "source": [
    "N = 5000"
   ]
  },
  {
   "cell_type": "code",
   "execution_count": 4,
   "metadata": {},
   "outputs": [],
   "source": [
    "x = np.random.randn(N)"
   ]
  },
  {
   "cell_type": "code",
   "execution_count": 5,
   "metadata": {},
   "outputs": [
    {
     "data": {
      "text/plain": [
       "{0: '1', 1: 'x', 2: 'x^2', 3: 'x^3'}"
      ]
     },
     "execution_count": 5,
     "metadata": {},
     "output_type": "execute_result"
    }
   ],
   "source": [
    "y = np.empty((N,1))\n",
    "y[:,0] = 10.5*x**3+2*x+10\n",
    "D = dict()\n",
    "D[0] = '1'\n",
    "D[1] = 'x'\n",
    "D[2] = 'x^2'\n",
    "D[3] = 'x^3'\n",
    "D"
   ]
  },
  {
   "cell_type": "code",
   "execution_count": 6,
   "metadata": {},
   "outputs": [],
   "source": [
    "p = np.empty((N,4,1))\n",
    "p[:,:,0] = np.transpose(np.vstack((np.ones_like(x),x,x**2,x**3)))\n"
   ]
  },
  {
   "cell_type": "code",
   "execution_count": 7,
   "metadata": {},
   "outputs": [],
   "source": [
    "s = 0\n",
    "ESR = 1\n"
   ]
  },
  {
   "cell_type": "code",
   "execution_count": 8,
   "metadata": {},
   "outputs": [
    {
     "name": "stdout",
     "output_type": "stream",
     "text": [
      "0.15406155586242676\n"
     ]
    }
   ],
   "source": [
    "tic = time.time()\n",
    "beta = mfrols(p, y, 0.01,s)\n",
    "toc = time.time()\n",
    "print(toc-tic)"
   ]
  },
  {
   "cell_type": "code",
   "execution_count": 9,
   "metadata": {},
   "outputs": [
    {
     "name": "stdout",
     "output_type": "stream",
     "text": [
      "[[ 10.42606079]\n",
      " [ 10.01490804]\n",
      " [  2.        ]]\n"
     ]
    },
    {
     "data": {
      "text/plain": [
       "{0: 'x^3', 1: '1', 2: 'x'}"
      ]
     },
     "execution_count": 9,
     "metadata": {},
     "output_type": "execute_result"
    }
   ],
   "source": [
    "print(beta)\n",
    "D1 = dict()\n",
    "for i in range(np.size(beta)):\n",
    "    D1[i] = D[int(l[i])]\n",
    "D1"
   ]
  },
  {
   "cell_type": "code",
   "execution_count": null,
   "metadata": {},
   "outputs": [],
   "source": [
    "1800+567.51+133.6"
   ]
  },
  {
   "cell_type": "code",
   "execution_count": 10,
   "metadata": {},
   "outputs": [
    {
     "name": "stdout",
     "output_type": "stream",
     "text": [
      "[[ 0.3       ]\n",
      " [ 0.57142857]]\n"
     ]
    }
   ],
   "source": [
    "\"\"\"\n",
    "Created on Mon Nov 27 12:04:11 2017\n",
    "\n",
    "@author: maysa\n",
    "\"\"\"\n",
    "#import mfrols\n",
    "import numpy as np\n",
    "p=np.array([[1.5,0,0],[0, -2,0],[0,0,2],[0,6,0],[0,3,0],[0,-4,0],[-2.5,0,4],[0,10,0],[0,20,0]])\n",
    "y=np.array([[1],[0],[1],[0],[0],[0],[1],[0],[0]])\n",
    "s = 0\n",
    "ESR = 1\n",
    "pho = 0.5\n",
    "beta = mfrols(p,y,pho,s)\n",
    "print(beta)"
   ]
  },
  {
   "cell_type": "code",
   "execution_count": 11,
   "metadata": {},
   "outputs": [],
   "source": [
    "s = 0\n",
    "ESR = 1\n",
    "beta = mfrols(p,y,pho,s)"
   ]
  },
  {
   "cell_type": "code",
   "execution_count": 12,
   "metadata": {},
   "outputs": [
    {
     "data": {
      "text/plain": [
       "array([[  1.5,   0. ,   0. ],\n",
       "       [  0. ,  -2. ,   0. ],\n",
       "       [  0. ,   0. ,   2. ],\n",
       "       [  0. ,   6. ,   0. ],\n",
       "       [  0. ,   3. ,   0. ],\n",
       "       [  0. ,  -4. ,   0. ],\n",
       "       [ -2.5,   0. ,   4. ],\n",
       "       [  0. ,  10. ,   0. ],\n",
       "       [  0. ,  20. ,   0. ]])"
      ]
     },
     "execution_count": 12,
     "metadata": {},
     "output_type": "execute_result"
    }
   ],
   "source": [
    "p"
   ]
  },
  {
   "cell_type": "code",
   "execution_count": 13,
   "metadata": {},
   "outputs": [
    {
     "data": {
      "text/plain": [
       "2"
      ]
     },
     "execution_count": 13,
     "metadata": {},
     "output_type": "execute_result"
    }
   ],
   "source": [
    "np.ndim(p)"
   ]
  },
  {
   "cell_type": "code",
   "execution_count": null,
   "metadata": {},
   "outputs": [],
   "source": [
    "s"
   ]
  },
  {
   "cell_type": "code",
   "execution_count": null,
   "metadata": {},
   "outputs": [],
   "source": [
    "l"
   ]
  },
  {
   "cell_type": "code",
   "execution_count": null,
   "metadata": {},
   "outputs": [],
   "source": [
    "beta"
   ]
  },
  {
   "cell_type": "code",
   "execution_count": null,
   "metadata": {},
   "outputs": [],
   "source": [
    "p"
   ]
  },
  {
   "cell_type": "code",
   "execution_count": null,
   "metadata": {},
   "outputs": [],
   "source": []
  },
  {
   "cell_type": "code",
   "execution_count": null,
   "metadata": {},
   "outputs": [],
   "source": []
  }
 ],
 "metadata": {
  "kernelspec": {
   "display_name": "Python 3",
   "language": "python",
   "name": "python3"
  },
  "language_info": {
   "codemirror_mode": {
    "name": "ipython",
    "version": 3
   },
   "file_extension": ".py",
   "mimetype": "text/x-python",
   "name": "python",
   "nbconvert_exporter": "python",
   "pygments_lexer": "ipython3",
   "version": "3.6.3"
  }
 },
 "nbformat": 4,
 "nbformat_minor": 2
}
