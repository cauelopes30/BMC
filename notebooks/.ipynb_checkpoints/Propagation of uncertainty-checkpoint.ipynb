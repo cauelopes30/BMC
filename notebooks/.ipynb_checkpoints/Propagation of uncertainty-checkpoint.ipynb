{
 "cells": [
  {
   "cell_type": "markdown",
   "metadata": {},
   "source": [
    "# Propagation of uncertainty (error)\n",
    "\n",
    "Marcos Duarte"
   ]
  },
  {
   "cell_type": "markdown",
   "metadata": {},
   "source": [
    "> The result of a measurement is only an approximation or estimate of the value of the measurand and thus is complete only when accompanied by a statement of the uncertainty of that estimate.   \n",
    ">   \n",
    "> Uncertainty (of measurement) is a parameter, associated with the result of a measurement, that characterizes the dispersion of the values that could reasonably be attributed to the measurand.   \n",
    ">   \n",
    "> [Evaluation of measurement data - Guide to the expression of uncertainty in measurement (2008)](http://www.bipm.org/utils/common/documents/jcgm/JCGM_100_2008_E.pdf)\n",
    "\n",
    "For istance, to calculate the density of a material someone made the following measurements of mass and volume (m=d/V):   \n",
    "\n",
    "$$ m = 4.0 \\pm 0.5 \\; g \\\\ \n",
    "V = 2.0 \\pm 0.2 \\; cm^3 $$\n",
    "\n",
    "Where 0.5 g and 0.2 cm$^3$ each represent a value of one standard deviation and express the errors in the measured weight and volume.   \n",
    "Based on these numbers, the material density is 2 g/cm$^3$; but how much is the error (uncertainty) of the density?   \n",
    "\n",
    "One way to estimate the error in the density is by propagation of uncertainty:\n",
    "\n",
    "> Propagation of uncertainty (or propagation of error) is the effect of variables' uncertainties (or errors) on the uncertainty of a function based on them. When the variables are the values of experimental measurements they have uncertainties due to measurement limitations (e.g., instrument precision and noise) which propagate to the combination of variables in the function ([Wikipedia](http://en.wikipedia.org/wiki/Propagation_of_uncertainty))."
   ]
  },
  {
   "cell_type": "markdown",
   "metadata": {},
   "source": [
    "## Propagation of uncertainty by linear approximation\n",
    "\n",
    "The classic way for propagation of uncertainty is through linear approximation of error propagation theory. We start with the mathematical function that relates the physical quantities and estimate the contribution of their variations by means of partial derivatives (the rate of variation) of each of these primary quantities. The linearity of the mathematical function in the vicinity of the obtained value and the statistical correlations between these quantities are also taken into consideration in the propagation of uncertainty.   \n",
    "If the measurand $f$ is defined in terms of the variables $x, y, z, ...$ by a general expression $f(x, y, z, ...)$, a first order approximation of the propagation of uncertainty ignoring correlations bettwen these variables is given by the well known formula:\n",
    "\n",
    "$$ \\sigma _{f}\\;=\\;\\sqrt{\\left ( \\frac{\\partial f}{\\partial x}  \\right)^2\\sigma _{x}^{2} + \\left ( \\frac{\\partial f}{\\partial y} \\right)^2 \\sigma _{y}^{2} + \\left ( \\frac{\\partial f}{\\partial z} \\right)^2 \\sigma _{z}^{2}\\: + \\ldots} $$\n",
    "\n",
    "Where $ \\partial f/\\partial i $ is the first partial derivative of $ f $ with respect to variable $ i $ and $ \\sigma_i $ is the uncertainty of the measurement of the variable $ i $ (one standard deviation).  \n",
    "\n",
    "Using the formula above, the estimation of the uncertainty of the density is given by:\n",
    "\n",
    "$$ d=\\frac{m}{V} \\\\\n",
    "\\sigma _{d}\\;=\\;\\sqrt{ \\left ( \\frac{\\partial d}{\\partial m}  \\right)^2 \\sigma _{m}^{2}+\\left ( \\frac{\\partial d}{\\partial V} \\right)^2 \\sigma _{V}^{2} } \\\\\n",
    "\\sigma _{d}\\;=\\;\\sqrt{ \\left ( \\frac{1}{V} \\right)^2 \\sigma _{m}^{2}+\\left ( -\\frac{m}{V^2} \\right)^2 \\sigma _{V}^{2} } $$\n",
    "\n",
    "And considering the values of mass and volume given earlier:\n",
    "\n",
    "$$ \\sigma_{d}\\;=\\;\\sqrt{\\left(\\frac{1}{2}\\right)^2\\times 0.5\\:^2+\\left(-\\frac{4}{2^2}\\right)^2\\times 0.2\\:^2}\\;\\;\\approx\\; 0.32 $$\n",
    "\n",
    "Then, the estimated value of the density can now be expressed in a complete form: d = 2.00±0.32 g/cm$^3$."
   ]
  },
  {
   "cell_type": "markdown",
   "metadata": {},
   "source": [
    "## Using a software to calculate uncertainty\n",
    "\n",
    "It is essential that any result of a measurement is accompanied by the estimate of its uncertainty as above, this way we can better understand the value of the measure and how reliable it is. However, it is unlikely that anyone will repeat these calculations in the day-to-day work (although there are tables with partial derivatives for the most common expressions). Therefore, it is useful a software that can perform these calculations (at least for checking the results manually obtained). Fortunately, there are software for the propagation of uncertainty, [see this list on Wikipedia](http://en.wikipedia.org/wiki/List_of_uncertainty_propagation_software).   \n",
    "\n",
    "One such software, free, open source, and cross-platform, is the library for [Python](http://python.org) called [uncertainties](http://pythonhosted.org/uncertainties/). If you don't know or don't have Python, the easiest way to get it is to install the [Anaconda distribution](https://www.continuum.io/downloads), which is also free and cross-platform. Read the notebook [How to install Python](http://nbviewer.ipython.org/github/demotu/BMC/blob/master/notebooks/PythonInstallation.ipynb) if you need help with that. \n",
    "\n",
    "With [uncertainties](http://pythonhosted.org/uncertainties/) installed, let's calculate again the uncertainty of the density:"
   ]
  },
  {
   "cell_type": "code",
   "execution_count": 1,
   "metadata": {},
   "outputs": [],
   "source": [
    "# Import the necessary libraries\n",
    "from IPython.display import display, Math  # IPython formatting\n",
    "from uncertainties import ufloat           # to define variables with uncertainty"
   ]
  },
  {
   "cell_type": "markdown",
   "metadata": {},
   "source": [
    "Let's input the values:"
   ]
  },
  {
   "cell_type": "code",
   "execution_count": 2,
   "metadata": {},
   "outputs": [
    {
     "name": "stdout",
     "output_type": "stream",
     "text": [
      "2.00+/-0.32\n"
     ]
    }
   ],
   "source": [
    "m = ufloat(nominal_value=4.0, std_dev=.5)  # value with uncertainty\n",
    "V = ufloat(2.0, 0.2)                       # we can pass values directly\n",
    "d = m/V                                    # calculate density\n",
    "\n",
    "print(d)"
   ]
  },
  {
   "cell_type": "markdown",
   "metadata": {},
   "source": [
    "The result we obtained before, but without having to deduct the partial derivatives because [uncertainties](http://pythonhosted.org/uncertainties/) does this with an [algorithm for automatic differentiation](http://en.wikipedia.org/wiki/Automatic_differentiation).\n",
    "\n",
    "And we can display this output more elegantly:"
   ]
  },
  {
   "cell_type": "code",
   "execution_count": 3,
   "metadata": {},
   "outputs": [
    {
     "data": {
      "text/latex": [
       "$$d = 2.00 \\pm 0.32\\; g/cm^3$$"
      ],
      "text/plain": [
       "<IPython.core.display.Math object>"
      ]
     },
     "metadata": {},
     "output_type": "display_data"
    },
    {
     "data": {
      "text/latex": [
       "$$d = \\left(2.00 \\pm 0.32\\right) \\times 10^{0}\\; g/cm^3$$"
      ],
      "text/plain": [
       "<IPython.core.display.Math object>"
      ]
     },
     "metadata": {},
     "output_type": "display_data"
    },
    {
     "data": {
      "text/latex": [
       "$$d = 2.00(32)\\; g/cm^3$$"
      ],
      "text/plain": [
       "<IPython.core.display.Math object>"
      ]
     },
     "metadata": {},
     "output_type": "display_data"
    }
   ],
   "source": [
    "display(Math('d = ' + r'{:.3L}'.format(d) + r'\\; g/cm^3'))\n",
    "display(Math('d = ' + r'{:.2eL}'.format(d) + r'\\; g/cm^3'))\n",
    "display(Math('d = ' + r'{:.2uS}'.format(d) + r'\\; g/cm^3'))"
   ]
  },
  {
   "cell_type": "markdown",
   "metadata": {},
   "source": [
    "To evince how simple is to perform propagation of uncertainty in this way, the operation above could have been performed in a single line (after you imported the necessary libraries at the first time using them):"
   ]
  },
  {
   "cell_type": "code",
   "execution_count": 4,
   "metadata": {},
   "outputs": [
    {
     "name": "stdout",
     "output_type": "stream",
     "text": [
      "2.00+/-0.32\n"
     ]
    }
   ],
   "source": [
    "print(ufloat(4.0, 0.5) / ufloat(2.0, 0.2))"
   ]
  },
  {
   "cell_type": "markdown",
   "metadata": {},
   "source": [
    "And how much each variable mass and volume contributed to the final uncertainty (i.e., the partial derivative of density in relation to the variable mass or volume times its standard deviation (each term on the right side of the equation above without squaring)) is given by:"
   ]
  },
  {
   "cell_type": "code",
   "execution_count": 5,
   "metadata": {},
   "outputs": [
    {
     "data": {
      "text/plain": [
       "dict_items([(4.0+/-0.5, 0.25), (2.0+/-0.2, 0.2)])"
      ]
     },
     "execution_count": 5,
     "metadata": {},
     "output_type": "execute_result"
    }
   ],
   "source": [
    "d.error_components().items()"
   ]
  },
  {
   "cell_type": "markdown",
   "metadata": {},
   "source": [
    "By definition, according to the formula above, the square root of the quadratic sum of these values is the total uncertainty for the density.   \n",
    "\n",
    "The value of each partial derivative of the density function with respect to the mass and volume variables is given by:"
   ]
  },
  {
   "cell_type": "code",
   "execution_count": 6,
   "metadata": {},
   "outputs": [
    {
     "data": {
      "text/plain": [
       "{2.0+/-0.2: -1.0, 4.0+/-0.5: 0.5}"
      ]
     },
     "execution_count": 6,
     "metadata": {},
     "output_type": "execute_result"
    }
   ],
   "source": [
    "d.derivatives"
   ]
  },
  {
   "cell_type": "markdown",
   "metadata": {},
   "source": [
    "Stepping back, we can even deduce the formula for the error propagation using the partial derivatives in case we want the actual formula using [Sympy](http://sympy.org/en/index.html):"
   ]
  },
  {
   "cell_type": "code",
   "execution_count": 7,
   "metadata": {},
   "outputs": [],
   "source": [
    "from sympy import symbols, Symbol, sqrt, Add, init_printing, latex\n",
    "from IPython.display import display, Math, Latex\n",
    "init_printing()\n",
    "\n",
    "def stdform(formula, *errors):\n",
    "    \"\"\"\n",
    "    Calculate the symbolic formula for error propagation using partial derivatives.\n",
    "    Based on http://code.activestate.com/recipes/535164/\n",
    "    \"\"\"\n",
    "    from functools import reduce\n",
    "    \n",
    "    formula = sqrt(reduce(Add, (formula.diff(var)**2 * Symbol('\\sigma_' + var.name)**2 \n",
    "                          for var in formula.atoms(Symbol) if var.name in errors), 0.)) \n",
    "    \n",
    "    return formula"
   ]
  },
  {
   "cell_type": "code",
   "execution_count": 8,
   "metadata": {},
   "outputs": [
    {
     "data": {
      "text/latex": [
       "$$\\sigma_d = \\sqrt{\\frac{\\sigma_m^{2}}{V^{2}} + \\frac{\\sigma_V^{2} m^{2}}{V^{4}}}$$"
      ],
      "text/plain": [
       "<IPython.core.display.Math object>"
      ]
     },
     "metadata": {},
     "output_type": "display_data"
    }
   ],
   "source": [
    "m, V = symbols('m, V')\n",
    "d = m/V\n",
    "formula = stdform(d, 'm', 'V')\n",
    "display(Math('\\sigma_d = ' + latex(formula)))"
   ]
  },
  {
   "cell_type": "markdown",
   "metadata": {},
   "source": [
    "Same as before, but Sympy deduced for us."
   ]
  },
  {
   "cell_type": "markdown",
   "metadata": {},
   "source": [
    "### Another example\n",
    "\n",
    "Let's estimate the uncertainty in the measurement of the volume of a cilinder given its diameter ($d=2.0\\pm0.1$) cm and height $h=10.0\\pm0.5$ cm. But now, let's go straight to the solution:"
   ]
  },
  {
   "cell_type": "code",
   "execution_count": 9,
   "metadata": {},
   "outputs": [
    {
     "data": {
      "text/latex": [
       "$$\\sigma_V = \\sqrt{\\frac{\\pi^{2} \\sigma_d^{2}}{4} d^{2} h^{2} + \\frac{\\pi^{2} \\sigma_h^{2}}{16} d^{4}}$$"
      ],
      "text/plain": [
       "<IPython.core.display.Math object>"
      ]
     },
     "metadata": {},
     "output_type": "display_data"
    }
   ],
   "source": [
    "from sympy import pi\n",
    "d, h = symbols('d, h')\n",
    "V = h*pi*(d/2)**2\n",
    "\n",
    "formula = stdform(V, 'd', 'h')\n",
    "display(Math('\\sigma_V = ' + latex(formula)))"
   ]
  },
  {
   "cell_type": "code",
   "execution_count": 10,
   "metadata": {},
   "outputs": [
    {
     "data": {
      "text/latex": [
       "$$V = 31.4 \\pm 3.5\\; cm^3$$"
      ],
      "text/plain": [
       "<IPython.core.display.Math object>"
      ]
     },
     "metadata": {},
     "output_type": "display_data"
    }
   ],
   "source": [
    "from math import pi\n",
    "h = ufloat(nominal_value=10.0, std_dev=0.5)\n",
    "d = ufloat(nominal_value=2.0, std_dev=0.1)\n",
    "V = h*pi*(d/2)**2\n",
    "display(Math('V = ' + r'{:.3L}'.format(V) + r'\\; cm^3'))"
   ]
  },
  {
   "cell_type": "markdown",
   "metadata": {},
   "source": [
    "## In conclusion\n",
    "\n",
    "There is no excuse to not perform propagation of uncertainty of the result of a measurement.   \n",
    "\n",
    "**Remember, your work is complete only when you report the uncertainty.** "
   ]
  },
  {
   "cell_type": "markdown",
   "metadata": {},
   "source": [
    "## References\n",
    "\n",
    "- [Evaluation of measurement data - Guide to the expression of uncertainty in measurement\n",
    "JCGM 100:2008](http://www.bipm.org/utils/common/documents/jcgm/JCGM_100_2008_E.pdf).\n",
    "- [Avaliação de dados de medição - Guia para a expressão de incerteza de medição (GUM 2008 in Portuguese)](http://www.inmetro.gov.br/inovacao/publicacoes/gum_final.pdf).\n",
    "- [Uncertainties](http://packages.python.org/uncertainties): a Python package for calculations with uncertainties, Eric O. Lebigot."
   ]
  }
 ],
 "metadata": {
  "kernelspec": {
   "display_name": "Python 3",
   "language": "python",
   "name": "python3"
  },
  "language_info": {
   "codemirror_mode": {
    "name": "ipython",
    "version": 3
   },
   "file_extension": ".py",
   "mimetype": "text/x-python",
   "name": "python",
   "nbconvert_exporter": "python",
   "pygments_lexer": "ipython3",
   "version": "3.6.2"
  }
 },
 "nbformat": 4,
 "nbformat_minor": 1
}
