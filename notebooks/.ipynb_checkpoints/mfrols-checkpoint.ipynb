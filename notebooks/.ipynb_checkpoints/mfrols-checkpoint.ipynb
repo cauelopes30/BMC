{
 "cells": [
  {
   "cell_type": "code",
   "execution_count": 1,
   "metadata": {},
   "outputs": [],
   "source": [
    "'''\n",
    "Implements the MFROLS algorithm (see page 97 from Billings, SA (2013)).\n",
    "\n",
    "%\n",
    "\n",
    "% written by: Renato Naville Watanabe \n",
    "\n",
    "%\n",
    "\n",
    "%\n",
    "\n",
    "% beta = mfrols(p, y, pho, s)\n",
    "\n",
    "%\t\n",
    "\n",
    "% Inputs:\n",
    "\n",
    "%\t\n",
    "\n",
    "%   p: matrix of floats, is the matrix of candidate terms.\n",
    "\n",
    "%\n",
    "\n",
    "%   y: vector of floats, output signal.\n",
    "\n",
    "%\n",
    "\n",
    "%   pho: float, stop criteria.\n",
    "\n",
    "%\n",
    "\n",
    "%   s: integer, iteration step of the mfrols algorithm.\n",
    "\n",
    "%\n",
    "\n",
    "%\n",
    "\n",
    "% Output:\n",
    "\n",
    "%\n",
    "\n",
    "%   beta: vector of floats, coefficients of the chosen terms.\n",
    "\n",
    "%\n",
    "\n",
    "%\n",
    "\n",
    "% Globals:\n",
    "\n",
    "%\n",
    "\n",
    "%   l: vector of integers, indices of the chosen terms.\n",
    "\n",
    "%\n",
    "\n",
    "%   err: vector of floats, the error reduction ratio of each chosen term.\n",
    "\n",
    "%\n",
    "\n",
    "%   ESR: float, the sum of the individual error reduction ratios.\n",
    "\n",
    "%\n",
    "\n",
    "%   A: matrix of floats, auxiliary matrix in the orthogonalization process. \n",
    "\n",
    "%\n",
    "\n",
    "%   q: matrix of floats, matrix with each column being the terms orthogonalized by the Gram-Schmidt process.\n",
    "\n",
    "%\n",
    "\n",
    "%   g: vector of floats, auxiliary vector in the orthogonalization process.\n",
    "\n",
    "%\n",
    "\n",
    "%   M0:\tinteger, number of chosen terms.\n",
    "'''\n",
    "\n",
    "def mfrols(p, y, pho, s):\n",
    "    import numpy as np\n",
    "    \n",
    "\n",
    "    # The global variables are used due to the lack of pointers in Matlab\n",
    "\n",
    "    global l\n",
    "    global err\n",
    "    global ESR\n",
    "    global A\n",
    "    global q \n",
    "    global g \n",
    "    global M0\n",
    "\n",
    "    beta = []\n",
    "\n",
    "    M = np.shape(p)[1]\n",
    "    L = np.shape(p)[2]\n",
    "    gs= np.zeros((L,M))\n",
    "    ERR=np.zeros((L,M))\n",
    "    qs=np.zeros_like(p)\n",
    "\n",
    "    for j in range(L):\n",
    "        sigma = np.transpose(y[:,j])@y[:,j]\n",
    "        for m in range(M):\n",
    "            if np.max(m*np.ones_like(l)==l)==0:\n",
    "                ## The Gram-Schmidt method was implemented in a modified way, as shown in Rice, JR(1966)\n",
    "                qs[:,m,j] = p[:,m,j]\n",
    "                for r in range(s):\n",
    "                    qs[:,m,j] = qs[:,m,j] - (np.transpose(np.squeeze(q[:,r,j]))@qs[:,m,j])/(np.transpose(np.squeeze(q[:,r,j]))@np.squeeze(q[:,r,j]))*np.squeeze(q[:,r,j])\n",
    "                gs[j,m] = (np.transpose(y[:,j])@np.squeeze(qs[:,m,j]))/(np.transpose(np.squeeze(qs[:,m,j]))@np.squeeze(qs[:,m,j]))\n",
    "                ERR[j,m] = (gs[j,m]**2)*(np.transpose(np.squeeze(qs[:,m,j]))@np.squeeze(qs[:,m,j]))/sigma\n",
    "            else:\n",
    "                ERR[j,m]=0   \n",
    "\n",
    "    ## global variables assignment\n",
    "\n",
    "    ERR_m = np.mean(ERR, 0)\n",
    "    l[s] = np.nonzero(ERR_m == np.max(ERR_m))[0]\n",
    "    err[s] = ERR_m[int(l[s])]\n",
    "    for j in range(L):\n",
    "        for r in  range(s-1):\n",
    "            A[r, s, j] = (np.transpose(q[:,r,j])@p[:,int(l[s]),j])/(np.transpose(q[:,r,j])@q[:,r,j])    \n",
    "        A[s, s, j] = 1\n",
    "        q[:, s,j] = qs[:,int(l[s]),j]\n",
    "        g[j,s] = gs[j,int(l[s])]\n",
    "\n",
    "    \n",
    "\n",
    "    ESR = ESR - err[s]\n",
    "\n",
    "    \n",
    "\n",
    "    ## recursive call \n",
    "\n",
    "    if (err[s] >= pho and s < M-1):\n",
    "        s += 1\n",
    "        del qs \n",
    "        del gs\n",
    "        beta = mfrols(p, y, pho, s)\n",
    "    else:\n",
    "        M0 = s\n",
    "        s += 1\n",
    "        beta = np.empty((M0,L))\n",
    "        for j in range(L):\n",
    "            beta[:,j] = np.linalg.inv(np.squeeze(A[0:M0,0:M0,j]))@np.transpose(g[j,0:M0])\n",
    "            \n",
    "    return beta\n",
    "\n",
    "       \n",
    "\n",
    "    \n",
    "\n"
   ]
  },
  {
   "cell_type": "code",
   "execution_count": 2,
   "metadata": {},
   "outputs": [],
   "source": [
    "import numpy as np\n"
   ]
  },
  {
   "cell_type": "code",
   "execution_count": 3,
   "metadata": {},
   "outputs": [],
   "source": [
    "N = 5000"
   ]
  },
  {
   "cell_type": "code",
   "execution_count": 4,
   "metadata": {},
   "outputs": [],
   "source": [
    "x = np.random.randn(N)"
   ]
  },
  {
   "cell_type": "code",
   "execution_count": 5,
   "metadata": {},
   "outputs": [
    {
     "data": {
      "text/plain": [
       "{0: '1', 1: 'x', 2: 'x^2', 3: 'x^3'}"
      ]
     },
     "execution_count": 5,
     "metadata": {},
     "output_type": "execute_result"
    }
   ],
   "source": [
    "y = np.empty((N,1))\n",
    "y[:,0] = x**2+2*x+1\n",
    "D = dict()\n",
    "D[0] = '1'\n",
    "D[1] = 'x'\n",
    "D[2] = 'x^2'\n",
    "D[3] = 'x^3'\n",
    "D"
   ]
  },
  {
   "cell_type": "code",
   "execution_count": 6,
   "metadata": {},
   "outputs": [],
   "source": [
    "p = np.empty((N,4,1))\n",
    "p[:,:,0] = np.transpose(np.vstack((np.ones_like(x),x,x**2,x**3)))"
   ]
  },
  {
   "cell_type": "code",
   "execution_count": 7,
   "metadata": {},
   "outputs": [
    {
     "name": "stdout",
     "output_type": "stream",
     "text": [
      "4\n"
     ]
    }
   ],
   "source": [
    "s = 0\n",
    "ESR = 1\n",
    "M = np.shape(p)[1]\n",
    "print(M)\n",
    "l = -1*np.ones((M))\n",
    "err = np.zeros((M))\n",
    "A = np.empty((M,M,1))\n",
    "q = np.empty_like(p)\n",
    "g = np.empty((1,M))"
   ]
  },
  {
   "cell_type": "code",
   "execution_count": 8,
   "metadata": {},
   "outputs": [],
   "source": [
    "beta = mfrols(p, y, 0.01,s)"
   ]
  },
  {
   "cell_type": "code",
   "execution_count": 9,
   "metadata": {},
   "outputs": [
    {
     "name": "stdout",
     "output_type": "stream",
     "text": [
      "[[ 0.96652965]\n",
      " [ 2.00540785]\n",
      " [ 1.        ]]\n"
     ]
    },
    {
     "data": {
      "text/plain": [
       "{0: 'x^2', 1: 'x', 2: '1'}"
      ]
     },
     "execution_count": 9,
     "metadata": {},
     "output_type": "execute_result"
    }
   ],
   "source": [
    "print(beta)\n",
    "D1 = dict()\n",
    "for i in range(np.size(beta)):\n",
    "    D1[i] = D[int(l[i])]\n",
    "D1"
   ]
  },
  {
   "cell_type": "code",
   "execution_count": null,
   "metadata": {},
   "outputs": [],
   "source": []
  },
  {
   "cell_type": "code",
   "execution_count": 10,
   "metadata": {},
   "outputs": [
    {
     "data": {
      "text/plain": [
       "2.0"
      ]
     },
     "execution_count": 10,
     "metadata": {},
     "output_type": "execute_result"
    }
   ],
   "source": [
    "l[0]"
   ]
  },
  {
   "cell_type": "code",
   "execution_count": 11,
   "metadata": {},
   "outputs": [
    {
     "data": {
      "text/plain": [
       "1.0"
      ]
     },
     "execution_count": 11,
     "metadata": {},
     "output_type": "execute_result"
    }
   ],
   "source": [
    "l[1]"
   ]
  },
  {
   "cell_type": "code",
   "execution_count": 12,
   "metadata": {},
   "outputs": [
    {
     "data": {
      "text/plain": [
       "array([ 2.,  1.,  0.,  3.])"
      ]
     },
     "execution_count": 12,
     "metadata": {},
     "output_type": "execute_result"
    }
   ],
   "source": [
    "l"
   ]
  },
  {
   "cell_type": "code",
   "execution_count": 13,
   "metadata": {},
   "outputs": [
    {
     "data": {
      "text/plain": [
       "array([ 2.,  1.,  0.,  3.])"
      ]
     },
     "execution_count": 13,
     "metadata": {},
     "output_type": "execute_result"
    }
   ],
   "source": [
    "l"
   ]
  }
 ],
 "metadata": {
  "kernelspec": {
   "display_name": "Python 3",
   "language": "python",
   "name": "python3"
  },
  "language_info": {
   "codemirror_mode": {
    "name": "ipython",
    "version": 3
   },
   "file_extension": ".py",
   "mimetype": "text/x-python",
   "name": "python",
   "nbconvert_exporter": "python",
   "pygments_lexer": "ipython3",
   "version": "3.6.3"
  }
 },
 "nbformat": 4,
 "nbformat_minor": 2
}
